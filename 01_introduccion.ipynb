{
 "cells": [
  {
   "cell_type": "markdown",
   "metadata": {},
   "source": [
    "# Introducción."
   ]
  },
  {
   "cell_type": "markdown",
   "metadata": {},
   "source": [
    "## Azure para datos y analítica."
   ]
  },
  {
   "cell_type": "markdown",
   "metadata": {},
   "source": [
    "### Ciclo de vida de los datos.\n",
    "\n",
    "* Ingesta.\n",
    "* Almacenamiento.\n",
    "* Procesamiento y análisis.\n",
    "* Exploración y visualización.\n",
    "* Modelos predictivos a partir de datos. "
   ]
  },
  {
   "cell_type": "markdown",
   "metadata": {},
   "source": [
    "<img src=\"img/architecture-data-warehousing.png\"></img>\n",
    "\n",
    "Fuente: https://learn.microsoft.com/en-us/azure/architecture/example-scenario/data/data-warehouse"
   ]
  },
  {
   "cell_type": "markdown",
   "metadata": {},
   "source": [
    "<img src=\"img/azure-databricks-modern-analytics-architecture-diagram.png\"></img>\n",
    "\n",
    "Fuente: https://learn.microsoft.com/en-us/azure/architecture/solution-ideas/articles/azure-databricks-modern-analytics-architecture"
   ]
  },
  {
   "cell_type": "markdown",
   "metadata": {},
   "source": [
    "## *Data Warehousing*."
   ]
  },
  {
   "cell_type": "markdown",
   "metadata": {},
   "source": [
    "Un *data warehouse* es un tipo de sistema de gestión de datos que es diseñado para habilitar y soportar actividades de *Business Intelligence* (*BI*), particularmente para analítica. Los *data warehouses* son usados primordialmente para realizar consultas (*queries*) mediante *SQL* y análisis que contienen grandes volúmenes de datos históricos de un negocio."
   ]
  },
  {
   "cell_type": "markdown",
   "metadata": {},
   "source": [
    "### *OLAP*.\n",
    "\n",
    "El procesamiento analítico en línea (*OLAP*) se refiere a ciertas tecnologías que organizan grandes bases de datos y soportan análisis complejos. Permiten realizar consultas analíticas complejas sin afectar negativamente a los sistemas transaccionales. "
   ]
  },
  {
   "cell_type": "markdown",
   "metadata": {},
   "source": [
    "### *OLTP*.\n",
    "\n",
    "El Procesamiento de Transacciones En Línea (*OLTP*) se refiere a ciertas tecnologías y herramientas que permiten realizar operaciones altamente transaccionales en bases de datos, tal como es el caso de los sistemas de gestión de bases de datos relacionales (*RDBMS*)."
   ]
  },
  {
   "cell_type": "markdown",
   "metadata": {},
   "source": [
    "## *Data Lake*. \n",
    "\n",
    "Es un repositorio de almacenamiento centralizado que contienen grandes cantidades de datos provenientes de múltipes fuentes en formato * crudo* y generalmente, no estructurado.  "
   ]
  },
  {
   "cell_type": "markdown",
   "metadata": {},
   "source": [
    "<img src=\"img/Modern-Data-Architecture-with-Azure-Databricks-and-Delta-Lake.png\"></img>\n",
    "\n",
    "Fuente: https://techcommunity.microsoft.com/t5/analytics-on-azure-blog/how-to-reduce-infrastructure-costs-by-up-to-80-with-azure/ba-p/1820280"
   ]
  },
  {
   "cell_type": "markdown",
   "metadata": {},
   "source": [
    "### *ETL*, *ELT*, *EL*.\n",
    "\n",
    "Son operaciones de procesamiento de datos donde:\n",
    "\n",
    "* *E* significa \"extraer\". Es decir, adquirir información de una o varias fuentes de datos.\n",
    "    * Por lotes (*batch*). Elementos finitos.\n",
    "    * Por flujo (*stream*). Elementos que no tiene un fin delimitado y son generados/enviados en intervalos generalmente impredecibles.\n",
    "* *L* significa \"cargar\". Es decir, almacenar los elementos en un *data store*.\n",
    "* *T* significa \"transformar\". Es decir, realizar las operaciones necesarias para convertir los datos crudos en datos útiles."
   ]
  },
  {
   "cell_type": "markdown",
   "metadata": {},
   "source": [
    "<p style=\"text-align: center\"><a rel=\"license\" href=\"http://creativecommons.org/licenses/by/4.0/\"><img alt=\"Licencia Creative Commons\" style=\"border-width:0\" src=\"https://i.creativecommons.org/l/by/4.0/80x15.png\" /></a><br />Esta obra está bajo una <a rel=\"license\" href=\"http://creativecommons.org/licenses/by/4.0/\">Licencia Creative Commons Atribución 4.0 Internacional</a>.</p>\n",
    "<p style=\"text-align: center\">&copy; José Luis Chiquete Valdivieso. 2022.</p>"
   ]
  }
 ],
 "metadata": {
  "kernelspec": {
   "display_name": "Python 3 (ipykernel)",
   "language": "python",
   "name": "python3"
  },
  "language_info": {
   "codemirror_mode": {
    "name": "ipython",
    "version": 3
   },
   "file_extension": ".py",
   "mimetype": "text/x-python",
   "name": "python",
   "nbconvert_exporter": "python",
   "pygments_lexer": "ipython3",
   "version": "3.10.6"
  }
 },
 "nbformat": 4,
 "nbformat_minor": 2
}
